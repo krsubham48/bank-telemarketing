{
 "cells": [
  {
   "cell_type": "markdown",
   "metadata": {},
   "source": [
    "# First Insights"
   ]
  },
  {
   "cell_type": "markdown",
   "metadata": {},
   "source": [
    "This notebook is the first attempt towards data exploration and understanding. The data is loaded in a pandas dataframe format for efficient handeling. This part mostly contains mathematical analysis and ideas about handeling categorical features. The visualisation based analysis is displayed separately in visualisations.ipynb file. All the findings and intutions is documented below as and when required"
   ]
  },
  {
   "cell_type": "markdown",
   "metadata": {},
   "source": [
    "The first cell contains the dependencies which we will be using in this notebook"
   ]
  },
  {
   "cell_type": "code",
   "execution_count": 1,
   "metadata": {
    "collapsed": true
   },
   "outputs": [],
   "source": [
    "import numpy as np #Matrix-Maths\n",
    "import pandas as pd #DataFrame operations"
   ]
  },
  {
   "cell_type": "markdown",
   "metadata": {},
   "source": [
    "The bank-additional-full.csv file instructed to use is loaded and the first five entries is shown below"
   ]
  },
  {
   "cell_type": "code",
   "execution_count": 2,
   "metadata": {
    "collapsed": true
   },
   "outputs": [],
   "source": [
    "data = pd.read_csv('../Data/bank-additional-full.csv', delimiter=';')"
   ]
  },
  {
   "cell_type": "code",
   "execution_count": 3,
   "metadata": {},
   "outputs": [
    {
     "data": {
      "text/html": [
       "<div>\n",
       "<style>\n",
       "    .dataframe thead tr:only-child th {\n",
       "        text-align: right;\n",
       "    }\n",
       "\n",
       "    .dataframe thead th {\n",
       "        text-align: left;\n",
       "    }\n",
       "\n",
       "    .dataframe tbody tr th {\n",
       "        vertical-align: top;\n",
       "    }\n",
       "</style>\n",
       "<table border=\"1\" class=\"dataframe\">\n",
       "  <thead>\n",
       "    <tr style=\"text-align: right;\">\n",
       "      <th></th>\n",
       "      <th>age</th>\n",
       "      <th>job</th>\n",
       "      <th>marital</th>\n",
       "      <th>education</th>\n",
       "      <th>default</th>\n",
       "      <th>housing</th>\n",
       "      <th>loan</th>\n",
       "      <th>contact</th>\n",
       "      <th>month</th>\n",
       "      <th>day_of_week</th>\n",
       "      <th>...</th>\n",
       "      <th>campaign</th>\n",
       "      <th>pdays</th>\n",
       "      <th>previous</th>\n",
       "      <th>poutcome</th>\n",
       "      <th>emp.var.rate</th>\n",
       "      <th>cons.price.idx</th>\n",
       "      <th>cons.conf.idx</th>\n",
       "      <th>euribor3m</th>\n",
       "      <th>nr.employed</th>\n",
       "      <th>y</th>\n",
       "    </tr>\n",
       "  </thead>\n",
       "  <tbody>\n",
       "    <tr>\n",
       "      <th>0</th>\n",
       "      <td>56</td>\n",
       "      <td>housemaid</td>\n",
       "      <td>married</td>\n",
       "      <td>basic.4y</td>\n",
       "      <td>no</td>\n",
       "      <td>no</td>\n",
       "      <td>no</td>\n",
       "      <td>telephone</td>\n",
       "      <td>may</td>\n",
       "      <td>mon</td>\n",
       "      <td>...</td>\n",
       "      <td>1</td>\n",
       "      <td>999</td>\n",
       "      <td>0</td>\n",
       "      <td>nonexistent</td>\n",
       "      <td>1.1</td>\n",
       "      <td>93.994</td>\n",
       "      <td>-36.4</td>\n",
       "      <td>4.857</td>\n",
       "      <td>5191.0</td>\n",
       "      <td>no</td>\n",
       "    </tr>\n",
       "    <tr>\n",
       "      <th>1</th>\n",
       "      <td>57</td>\n",
       "      <td>services</td>\n",
       "      <td>married</td>\n",
       "      <td>high.school</td>\n",
       "      <td>unknown</td>\n",
       "      <td>no</td>\n",
       "      <td>no</td>\n",
       "      <td>telephone</td>\n",
       "      <td>may</td>\n",
       "      <td>mon</td>\n",
       "      <td>...</td>\n",
       "      <td>1</td>\n",
       "      <td>999</td>\n",
       "      <td>0</td>\n",
       "      <td>nonexistent</td>\n",
       "      <td>1.1</td>\n",
       "      <td>93.994</td>\n",
       "      <td>-36.4</td>\n",
       "      <td>4.857</td>\n",
       "      <td>5191.0</td>\n",
       "      <td>no</td>\n",
       "    </tr>\n",
       "    <tr>\n",
       "      <th>2</th>\n",
       "      <td>37</td>\n",
       "      <td>services</td>\n",
       "      <td>married</td>\n",
       "      <td>high.school</td>\n",
       "      <td>no</td>\n",
       "      <td>yes</td>\n",
       "      <td>no</td>\n",
       "      <td>telephone</td>\n",
       "      <td>may</td>\n",
       "      <td>mon</td>\n",
       "      <td>...</td>\n",
       "      <td>1</td>\n",
       "      <td>999</td>\n",
       "      <td>0</td>\n",
       "      <td>nonexistent</td>\n",
       "      <td>1.1</td>\n",
       "      <td>93.994</td>\n",
       "      <td>-36.4</td>\n",
       "      <td>4.857</td>\n",
       "      <td>5191.0</td>\n",
       "      <td>no</td>\n",
       "    </tr>\n",
       "    <tr>\n",
       "      <th>3</th>\n",
       "      <td>40</td>\n",
       "      <td>admin.</td>\n",
       "      <td>married</td>\n",
       "      <td>basic.6y</td>\n",
       "      <td>no</td>\n",
       "      <td>no</td>\n",
       "      <td>no</td>\n",
       "      <td>telephone</td>\n",
       "      <td>may</td>\n",
       "      <td>mon</td>\n",
       "      <td>...</td>\n",
       "      <td>1</td>\n",
       "      <td>999</td>\n",
       "      <td>0</td>\n",
       "      <td>nonexistent</td>\n",
       "      <td>1.1</td>\n",
       "      <td>93.994</td>\n",
       "      <td>-36.4</td>\n",
       "      <td>4.857</td>\n",
       "      <td>5191.0</td>\n",
       "      <td>no</td>\n",
       "    </tr>\n",
       "    <tr>\n",
       "      <th>4</th>\n",
       "      <td>56</td>\n",
       "      <td>services</td>\n",
       "      <td>married</td>\n",
       "      <td>high.school</td>\n",
       "      <td>no</td>\n",
       "      <td>no</td>\n",
       "      <td>yes</td>\n",
       "      <td>telephone</td>\n",
       "      <td>may</td>\n",
       "      <td>mon</td>\n",
       "      <td>...</td>\n",
       "      <td>1</td>\n",
       "      <td>999</td>\n",
       "      <td>0</td>\n",
       "      <td>nonexistent</td>\n",
       "      <td>1.1</td>\n",
       "      <td>93.994</td>\n",
       "      <td>-36.4</td>\n",
       "      <td>4.857</td>\n",
       "      <td>5191.0</td>\n",
       "      <td>no</td>\n",
       "    </tr>\n",
       "  </tbody>\n",
       "</table>\n",
       "<p>5 rows × 21 columns</p>\n",
       "</div>"
      ],
      "text/plain": [
       "   age        job  marital    education  default housing loan    contact  \\\n",
       "0   56  housemaid  married     basic.4y       no      no   no  telephone   \n",
       "1   57   services  married  high.school  unknown      no   no  telephone   \n",
       "2   37   services  married  high.school       no     yes   no  telephone   \n",
       "3   40     admin.  married     basic.6y       no      no   no  telephone   \n",
       "4   56   services  married  high.school       no      no  yes  telephone   \n",
       "\n",
       "  month day_of_week ...  campaign  pdays  previous     poutcome emp.var.rate  \\\n",
       "0   may         mon ...         1    999         0  nonexistent          1.1   \n",
       "1   may         mon ...         1    999         0  nonexistent          1.1   \n",
       "2   may         mon ...         1    999         0  nonexistent          1.1   \n",
       "3   may         mon ...         1    999         0  nonexistent          1.1   \n",
       "4   may         mon ...         1    999         0  nonexistent          1.1   \n",
       "\n",
       "   cons.price.idx  cons.conf.idx  euribor3m  nr.employed   y  \n",
       "0          93.994          -36.4      4.857       5191.0  no  \n",
       "1          93.994          -36.4      4.857       5191.0  no  \n",
       "2          93.994          -36.4      4.857       5191.0  no  \n",
       "3          93.994          -36.4      4.857       5191.0  no  \n",
       "4          93.994          -36.4      4.857       5191.0  no  \n",
       "\n",
       "[5 rows x 21 columns]"
      ]
     },
     "execution_count": 3,
     "metadata": {},
     "output_type": "execute_result"
    }
   ],
   "source": [
    "data.head()"
   ]
  },
  {
   "cell_type": "markdown",
   "metadata": {},
   "source": [
    "The data contains 21 columns and their name is displayed below. First 20 columns are the input variables and the last column `y` is output label which shows whether a term-deposit was bought by the customer or not as a binary yes/no value"
   ]
  },
  {
   "cell_type": "code",
   "execution_count": 4,
   "metadata": {},
   "outputs": [
    {
     "data": {
      "text/plain": [
       "['age',\n",
       " 'job',\n",
       " 'marital',\n",
       " 'education',\n",
       " 'default',\n",
       " 'housing',\n",
       " 'loan',\n",
       " 'contact',\n",
       " 'month',\n",
       " 'day_of_week',\n",
       " 'duration',\n",
       " 'campaign',\n",
       " 'pdays',\n",
       " 'previous',\n",
       " 'poutcome',\n",
       " 'emp.var.rate',\n",
       " 'cons.price.idx',\n",
       " 'cons.conf.idx',\n",
       " 'euribor3m',\n",
       " 'nr.employed',\n",
       " 'y']"
      ]
     },
     "execution_count": 4,
     "metadata": {},
     "output_type": "execute_result"
    }
   ],
   "source": [
    "cols = list(data.columns)\n",
    "cols"
   ]
  },
  {
   "cell_type": "markdown",
   "metadata": {},
   "source": [
    "The table below displays various mathematical parameters on numeric type columns in the given data. This gives a good mental picture of how the data is distributed and the range of values it contain"
   ]
  },
  {
   "cell_type": "code",
   "execution_count": 5,
   "metadata": {
    "scrolled": true
   },
   "outputs": [
    {
     "data": {
      "text/html": [
       "<div>\n",
       "<style>\n",
       "    .dataframe thead tr:only-child th {\n",
       "        text-align: right;\n",
       "    }\n",
       "\n",
       "    .dataframe thead th {\n",
       "        text-align: left;\n",
       "    }\n",
       "\n",
       "    .dataframe tbody tr th {\n",
       "        vertical-align: top;\n",
       "    }\n",
       "</style>\n",
       "<table border=\"1\" class=\"dataframe\">\n",
       "  <thead>\n",
       "    <tr style=\"text-align: right;\">\n",
       "      <th></th>\n",
       "      <th>age</th>\n",
       "      <th>duration</th>\n",
       "      <th>campaign</th>\n",
       "      <th>pdays</th>\n",
       "      <th>previous</th>\n",
       "      <th>emp.var.rate</th>\n",
       "      <th>cons.price.idx</th>\n",
       "      <th>cons.conf.idx</th>\n",
       "      <th>euribor3m</th>\n",
       "      <th>nr.employed</th>\n",
       "    </tr>\n",
       "  </thead>\n",
       "  <tbody>\n",
       "    <tr>\n",
       "      <th>count</th>\n",
       "      <td>41188.00000</td>\n",
       "      <td>41188.000000</td>\n",
       "      <td>41188.000000</td>\n",
       "      <td>41188.000000</td>\n",
       "      <td>41188.000000</td>\n",
       "      <td>41188.000000</td>\n",
       "      <td>41188.000000</td>\n",
       "      <td>41188.000000</td>\n",
       "      <td>41188.000000</td>\n",
       "      <td>41188.000000</td>\n",
       "    </tr>\n",
       "    <tr>\n",
       "      <th>mean</th>\n",
       "      <td>40.02406</td>\n",
       "      <td>258.285010</td>\n",
       "      <td>2.567593</td>\n",
       "      <td>962.475454</td>\n",
       "      <td>0.172963</td>\n",
       "      <td>0.081886</td>\n",
       "      <td>93.575664</td>\n",
       "      <td>-40.502600</td>\n",
       "      <td>3.621291</td>\n",
       "      <td>5167.035911</td>\n",
       "    </tr>\n",
       "    <tr>\n",
       "      <th>std</th>\n",
       "      <td>10.42125</td>\n",
       "      <td>259.279249</td>\n",
       "      <td>2.770014</td>\n",
       "      <td>186.910907</td>\n",
       "      <td>0.494901</td>\n",
       "      <td>1.570960</td>\n",
       "      <td>0.578840</td>\n",
       "      <td>4.628198</td>\n",
       "      <td>1.734447</td>\n",
       "      <td>72.251528</td>\n",
       "    </tr>\n",
       "    <tr>\n",
       "      <th>min</th>\n",
       "      <td>17.00000</td>\n",
       "      <td>0.000000</td>\n",
       "      <td>1.000000</td>\n",
       "      <td>0.000000</td>\n",
       "      <td>0.000000</td>\n",
       "      <td>-3.400000</td>\n",
       "      <td>92.201000</td>\n",
       "      <td>-50.800000</td>\n",
       "      <td>0.634000</td>\n",
       "      <td>4963.600000</td>\n",
       "    </tr>\n",
       "    <tr>\n",
       "      <th>25%</th>\n",
       "      <td>32.00000</td>\n",
       "      <td>102.000000</td>\n",
       "      <td>1.000000</td>\n",
       "      <td>999.000000</td>\n",
       "      <td>0.000000</td>\n",
       "      <td>-1.800000</td>\n",
       "      <td>93.075000</td>\n",
       "      <td>-42.700000</td>\n",
       "      <td>1.344000</td>\n",
       "      <td>5099.100000</td>\n",
       "    </tr>\n",
       "    <tr>\n",
       "      <th>50%</th>\n",
       "      <td>38.00000</td>\n",
       "      <td>180.000000</td>\n",
       "      <td>2.000000</td>\n",
       "      <td>999.000000</td>\n",
       "      <td>0.000000</td>\n",
       "      <td>1.100000</td>\n",
       "      <td>93.749000</td>\n",
       "      <td>-41.800000</td>\n",
       "      <td>4.857000</td>\n",
       "      <td>5191.000000</td>\n",
       "    </tr>\n",
       "    <tr>\n",
       "      <th>75%</th>\n",
       "      <td>47.00000</td>\n",
       "      <td>319.000000</td>\n",
       "      <td>3.000000</td>\n",
       "      <td>999.000000</td>\n",
       "      <td>0.000000</td>\n",
       "      <td>1.400000</td>\n",
       "      <td>93.994000</td>\n",
       "      <td>-36.400000</td>\n",
       "      <td>4.961000</td>\n",
       "      <td>5228.100000</td>\n",
       "    </tr>\n",
       "    <tr>\n",
       "      <th>max</th>\n",
       "      <td>98.00000</td>\n",
       "      <td>4918.000000</td>\n",
       "      <td>56.000000</td>\n",
       "      <td>999.000000</td>\n",
       "      <td>7.000000</td>\n",
       "      <td>1.400000</td>\n",
       "      <td>94.767000</td>\n",
       "      <td>-26.900000</td>\n",
       "      <td>5.045000</td>\n",
       "      <td>5228.100000</td>\n",
       "    </tr>\n",
       "  </tbody>\n",
       "</table>\n",
       "</div>"
      ],
      "text/plain": [
       "               age      duration      campaign         pdays      previous  \\\n",
       "count  41188.00000  41188.000000  41188.000000  41188.000000  41188.000000   \n",
       "mean      40.02406    258.285010      2.567593    962.475454      0.172963   \n",
       "std       10.42125    259.279249      2.770014    186.910907      0.494901   \n",
       "min       17.00000      0.000000      1.000000      0.000000      0.000000   \n",
       "25%       32.00000    102.000000      1.000000    999.000000      0.000000   \n",
       "50%       38.00000    180.000000      2.000000    999.000000      0.000000   \n",
       "75%       47.00000    319.000000      3.000000    999.000000      0.000000   \n",
       "max       98.00000   4918.000000     56.000000    999.000000      7.000000   \n",
       "\n",
       "       emp.var.rate  cons.price.idx  cons.conf.idx     euribor3m   nr.employed  \n",
       "count  41188.000000    41188.000000   41188.000000  41188.000000  41188.000000  \n",
       "mean       0.081886       93.575664     -40.502600      3.621291   5167.035911  \n",
       "std        1.570960        0.578840       4.628198      1.734447     72.251528  \n",
       "min       -3.400000       92.201000     -50.800000      0.634000   4963.600000  \n",
       "25%       -1.800000       93.075000     -42.700000      1.344000   5099.100000  \n",
       "50%        1.100000       93.749000     -41.800000      4.857000   5191.000000  \n",
       "75%        1.400000       93.994000     -36.400000      4.961000   5228.100000  \n",
       "max        1.400000       94.767000     -26.900000      5.045000   5228.100000  "
      ]
     },
     "execution_count": 5,
     "metadata": {},
     "output_type": "execute_result"
    }
   ],
   "source": [
    "data.describe()"
   ]
  },
  {
   "cell_type": "markdown",
   "metadata": {},
   "source": [
    "It is important to know what fraction of customer actually buy the term-deposit. The next cell gives the percentage of yes and no in the dataset"
   ]
  },
  {
   "cell_type": "code",
   "execution_count": 6,
   "metadata": {},
   "outputs": [
    {
     "name": "stdout",
     "output_type": "stream",
     "text": [
      "Count of Yes:  4640\n",
      "Count of No:  36548\n",
      "Count of Unknown:  0\n",
      "Sum of both the counts:  41188\n",
      "Total number of datapoints:  41188\n"
     ]
    }
   ],
   "source": [
    "count_yes = len(data[data['y']=='yes'])\n",
    "count_no = len(data[data['y']=='no'])\n",
    "count_unknown = len(data[data['y']=='unknown'])\n",
    "print('Count of Yes: ', count_yes)\n",
    "print('Count of No: ', count_no)\n",
    "print('Count of Unknown: ', count_unknown)\n",
    "print('Sum of both the counts: ', count_yes+count_no)\n",
    "print('Total number of datapoints: ', len(data['y']))"
   ]
  },
  {
   "cell_type": "code",
   "execution_count": 7,
   "metadata": {},
   "outputs": [
    {
     "name": "stdout",
     "output_type": "stream",
     "text": [
      "Percent of Yes:  0.11265417111780131\n",
      "Percent of No:  0.8873458288821987\n"
     ]
    }
   ],
   "source": [
    "perc_y = count_yes/len(data['y'])\n",
    "perc_n = count_no/len(data['y'])\n",
    "print('Percent of Yes: ', perc_y)\n",
    "print('Percent of No: ', perc_n)"
   ]
  },
  {
   "cell_type": "markdown",
   "metadata": {},
   "source": [
    "The above cells shows that we have 11.2% yes values and 88.7% no values. There is no missing values in responses. The data is highly biased towards no and thus we need to take proper precaution while building a classification system. Some possible options in hand are Resampling, precision-recall, F1 score, weighted crossentropy and graidient boosting. This problem will be dealt in much greater detail after Exploration and Visualisations of data"
   ]
  },
  {
   "cell_type": "markdown",
   "metadata": {},
   "source": [
    "Let us now see number of distinct values in each of the columns. This will give us ideas about handeling categorical features efficiently"
   ]
  },
  {
   "cell_type": "code",
   "execution_count": 8,
   "metadata": {},
   "outputs": [
    {
     "name": "stdout",
     "output_type": "stream",
     "text": [
      "age: 78\n",
      "job: 12\n",
      "marital: 4\n",
      "education: 8\n",
      "default: 3\n",
      "housing: 3\n",
      "loan: 3\n",
      "contact: 2\n",
      "month: 10\n",
      "day_of_week: 5\n",
      "duration: 1544\n",
      "campaign: 42\n",
      "pdays: 27\n",
      "previous: 8\n",
      "poutcome: 3\n",
      "emp.var.rate: 10\n",
      "cons.price.idx: 26\n",
      "cons.conf.idx: 26\n",
      "euribor3m: 316\n",
      "nr.employed: 11\n",
      "y: 2\n"
     ]
    }
   ],
   "source": [
    "for i in cols:\n",
    "    print('{0}: {1}'.format(i, len(list(set(data[i])))))"
   ]
  },
  {
   "cell_type": "markdown",
   "metadata": {},
   "source": [
    "The above analysis shows that most of the features are categorical with certain number of distinct features"
   ]
  },
  {
   "cell_type": "markdown",
   "metadata": {},
   "source": [
    "The cell below displays the frequency of occurances of different types of categorical values"
   ]
  },
  {
   "cell_type": "code",
   "execution_count": 9,
   "metadata": {
    "scrolled": false
   },
   "outputs": [
    {
     "name": "stdout",
     "output_type": "stream",
     "text": [
      "JOB\n",
      "admin.           10422\n",
      "blue-collar       9254\n",
      "technician        6743\n",
      "services          3969\n",
      "management        2924\n",
      "retired           1720\n",
      "entrepreneur      1456\n",
      "self-employed     1421\n",
      "housemaid         1060\n",
      "unemployed        1014\n",
      "student            875\n",
      "unknown            330\n",
      "Name: job, dtype: int64\n",
      "\n",
      "\n",
      "MARITAL\n",
      "married     24928\n",
      "single      11568\n",
      "divorced     4612\n",
      "unknown        80\n",
      "Name: marital, dtype: int64\n",
      "\n",
      "\n",
      "EDUCATION\n",
      "university.degree      12168\n",
      "high.school             9515\n",
      "basic.9y                6045\n",
      "professional.course     5243\n",
      "basic.4y                4176\n",
      "basic.6y                2292\n",
      "unknown                 1731\n",
      "illiterate                18\n",
      "Name: education, dtype: int64\n",
      "\n",
      "\n",
      "DEFAULT\n",
      "no         32588\n",
      "unknown     8597\n",
      "yes            3\n",
      "Name: default, dtype: int64\n",
      "\n",
      "\n",
      "HOUSING\n",
      "yes        21576\n",
      "no         18622\n",
      "unknown      990\n",
      "Name: housing, dtype: int64\n",
      "\n",
      "\n",
      "LOAN\n",
      "no         33950\n",
      "yes         6248\n",
      "unknown      990\n",
      "Name: loan, dtype: int64\n",
      "\n",
      "\n",
      "CONTACT\n",
      "cellular     26144\n",
      "telephone    15044\n",
      "Name: contact, dtype: int64\n",
      "\n",
      "\n",
      "MONTH\n",
      "may    13769\n",
      "jul     7174\n",
      "aug     6178\n",
      "jun     5318\n",
      "nov     4101\n",
      "apr     2632\n",
      "oct      718\n",
      "sep      570\n",
      "mar      546\n",
      "dec      182\n",
      "Name: month, dtype: int64\n",
      "\n",
      "\n",
      "DAY_OF_WEEK\n",
      "thu    8623\n",
      "mon    8514\n",
      "wed    8134\n",
      "tue    8090\n",
      "fri    7827\n",
      "Name: day_of_week, dtype: int64\n",
      "\n",
      "\n",
      "PREVIOUS\n",
      "0    35563\n",
      "1     4561\n",
      "2      754\n",
      "3      216\n",
      "4       70\n",
      "5       18\n",
      "6        5\n",
      "7        1\n",
      "Name: previous, dtype: int64\n",
      "\n",
      "\n",
      "POUTCOME\n",
      "nonexistent    35563\n",
      "failure         4252\n",
      "success         1373\n",
      "Name: poutcome, dtype: int64\n",
      "\n",
      "\n",
      "EMP.VAR.RATE\n",
      " 1.4    16234\n",
      "-1.8     9184\n",
      " 1.1     7763\n",
      "-0.1     3683\n",
      "-2.9     1663\n",
      "-3.4     1071\n",
      "-1.7      773\n",
      "-1.1      635\n",
      "-3.0      172\n",
      "-0.2       10\n",
      "Name: emp.var.rate, dtype: int64\n",
      "\n",
      "\n",
      "NR.EMPLOYED\n",
      "5228.1    16234\n",
      "5099.1     8534\n",
      "5191.0     7763\n",
      "5195.8     3683\n",
      "5076.2     1663\n",
      "5017.5     1071\n",
      "4991.6      773\n",
      "5008.7      650\n",
      "4963.6      635\n",
      "5023.5      172\n",
      "5176.3       10\n",
      "Name: nr.employed, dtype: int64\n",
      "\n",
      "\n",
      "Y\n",
      "no     36548\n",
      "yes     4640\n",
      "Name: y, dtype: int64\n",
      "\n",
      "\n"
     ]
    }
   ],
   "source": [
    "for i in cols:\n",
    "    if(len(list(set(data[i])))<15):\n",
    "        print(i.upper())\n",
    "        print(data[i].value_counts())\n",
    "        print('\\n')"
   ]
  },
  {
   "cell_type": "markdown",
   "metadata": {},
   "source": [
    "The observations above displays a fairly varied distribution of data we have. This can be analysed only after finding the relation of each with the responses. This is done below"
   ]
  },
  {
   "cell_type": "markdown",
   "metadata": {},
   "source": [
    "It is also important to know the number of unknowns and NaN values we have in each column. This is done below"
   ]
  },
  {
   "cell_type": "code",
   "execution_count": 10,
   "metadata": {},
   "outputs": [
    {
     "data": {
      "text/plain": [
       "age               0\n",
       "job               0\n",
       "marital           0\n",
       "education         0\n",
       "default           0\n",
       "housing           0\n",
       "loan              0\n",
       "contact           0\n",
       "month             0\n",
       "day_of_week       0\n",
       "duration          0\n",
       "campaign          0\n",
       "pdays             0\n",
       "previous          0\n",
       "poutcome          0\n",
       "emp.var.rate      0\n",
       "cons.price.idx    0\n",
       "cons.conf.idx     0\n",
       "euribor3m         0\n",
       "nr.employed       0\n",
       "y                 0\n",
       "dtype: int64"
      ]
     },
     "execution_count": 10,
     "metadata": {},
     "output_type": "execute_result"
    }
   ],
   "source": [
    "data.isnull().sum(axis=0)"
   ]
  },
  {
   "cell_type": "markdown",
   "metadata": {},
   "source": [
    "The data contains no NaN values and thus handeling of missing data is not required in this case"
   ]
  },
  {
   "cell_type": "markdown",
   "metadata": {},
   "source": [
    "The analysis done below seem to be more prevalant with visualisations. For now, mathematical conclusions are drawn by obseving the data and then data visualisation will be used in the next file to produce more concrete results"
   ]
  },
  {
   "cell_type": "code",
   "execution_count": 11,
   "metadata": {},
   "outputs": [
    {
     "name": "stdout",
     "output_type": "stream",
     "text": [
      "17: 2\n",
      "18: 12\n",
      "19: 20\n",
      "20: 23\n",
      "21: 29\n",
      "22: 36\n",
      "23: 48\n",
      "24: 86\n",
      "25: 93\n",
      "26: 122\n",
      "27: 114\n",
      "28: 151\n",
      "29: 186\n",
      "30: 202\n",
      "31: 220\n",
      "32: 184\n",
      "33: 210\n",
      "34: 184\n",
      "35: 167\n",
      "36: 154\n",
      "37: 137\n",
      "38: 143\n",
      "39: 114\n",
      "40: 84\n",
      "41: 113\n",
      "42: 91\n",
      "43: 88\n",
      "44: 77\n",
      "45: 92\n",
      "46: 79\n",
      "47: 58\n",
      "48: 97\n",
      "49: 55\n",
      "50: 87\n",
      "51: 72\n",
      "52: 81\n",
      "53: 68\n",
      "54: 64\n",
      "55: 56\n",
      "56: 80\n",
      "57: 62\n",
      "58: 58\n",
      "59: 69\n",
      "60: 58\n",
      "61: 32\n",
      "62: 25\n",
      "63: 17\n",
      "64: 27\n",
      "65: 23\n",
      "66: 29\n",
      "67: 11\n",
      "68: 15\n",
      "69: 14\n",
      "70: 19\n",
      "71: 21\n",
      "72: 13\n",
      "73: 13\n",
      "74: 15\n",
      "75: 11\n",
      "76: 18\n",
      "77: 13\n",
      "78: 14\n",
      "79: 7\n",
      "80: 18\n",
      "81: 8\n",
      "82: 11\n",
      "83: 8\n",
      "84: 3\n",
      "85: 7\n",
      "86: 5\n",
      "87: 1\n",
      "88: 9\n",
      "89: 2\n",
      "91: 0\n",
      "92: 3\n",
      "94: 0\n",
      "95: 0\n",
      "98: 2\n"
     ]
    }
   ],
   "source": [
    "set_age = list(set(data['age']))\n",
    "for i in set_age:\n",
    "    c=0\n",
    "    for j in range(len(data['age'])):\n",
    "        if(data['age'][j]==i and data['y'][j]=='yes'):\n",
    "            c+=1\n",
    "    print('{0}: {1}'.format(i, c))"
   ]
  },
  {
   "cell_type": "markdown",
   "metadata": {},
   "source": [
    "We see that the buyers mostly belong to age group 23-60 which is the working age group. Subjects with less than 23 yrs of age cannot afford term-deposit and subjects with age greater than 60 also do not want to purchase term deposit with long maturity period. Thus, there is a distinct conclusion that the target must be made on working class people with relatively young age"
   ]
  },
  {
   "cell_type": "code",
   "execution_count": 12,
   "metadata": {},
   "outputs": [
    {
     "name": "stdout",
     "output_type": "stream",
     "text": [
      "services: 323\n",
      "management: 328\n",
      "unknown: 37\n",
      "entrepreneur: 124\n",
      "student: 275\n",
      "technician: 730\n",
      "admin.: 1352\n",
      "retired: 434\n",
      "blue-collar: 638\n",
      "self-employed: 149\n",
      "unemployed: 144\n",
      "housemaid: 106\n"
     ]
    }
   ],
   "source": [
    "set_job = list(set(data['job']))\n",
    "for i in set_job:\n",
    "    c=0\n",
    "    for j in range(len(data['job'])):\n",
    "        if(data['job'][j]==i and data['y'][j]=='yes'):\n",
    "            c+=1\n",
    "    print('{0}: {1}'.format(i, c))"
   ]
  },
  {
   "cell_type": "markdown",
   "metadata": {},
   "source": [
    "Here, we see students, self-employed, entrepreuners, unemployed, housemaid and unknowns seems to be broke and cannot afford to buy a term-deposit. On the other hand, technician, blue-collar, management, services, retired and admin have sufficient funds to invest in term-deposit. Again, the conclusion is very distinct here that it is more useful to target subjects that have money to invest these kinds of scheme and products. Already broke people have little chances to buy the product"
   ]
  },
  {
   "cell_type": "code",
   "execution_count": 13,
   "metadata": {},
   "outputs": [
    {
     "name": "stdout",
     "output_type": "stream",
     "text": [
      "unknown: 12\n",
      "single: 1620\n",
      "married: 2532\n",
      "divorced: 476\n"
     ]
    }
   ],
   "source": [
    "set_marital = list(set(data['marital']))\n",
    "for i in set_marital:\n",
    "    c=0\n",
    "    for j in range(len(data['marital'])):\n",
    "        if(data['marital'][j]==i and data['y'][j]=='yes'):\n",
    "            c+=1\n",
    "    print('{0}: {1}'.format(i, c))"
   ]
  },
  {
   "cell_type": "markdown",
   "metadata": {},
   "source": [
    "Divorced and unknowns seem to have less positive response compared to singles and married. They have a positive aura around that might drive them to buy the product. Also, there might be cases where their future plans and savings might be a major driving factor in decision making"
   ]
  },
  {
   "cell_type": "code",
   "execution_count": 14,
   "metadata": {},
   "outputs": [
    {
     "name": "stdout",
     "output_type": "stream",
     "text": [
      "no: 4197\n",
      "yes: 0\n",
      "unknown: 443\n"
     ]
    }
   ],
   "source": [
    "set_default = list(set(data['default']))\n",
    "for i in set_default:\n",
    "    c=0\n",
    "    for j in range(len(data['default'])):\n",
    "        if(data['default'][j]==i and data['y'][j]=='yes'):\n",
    "            c+=1\n",
    "    print('{0}: {1}'.format(i, c))"
   ]
  },
  {
   "cell_type": "markdown",
   "metadata": {},
   "source": [
    "Again we got a very distinctive conclusion where anyone who is a loan defaulter might be broke and thus there is no chance of they buying a term deposit"
   ]
  },
  {
   "cell_type": "code",
   "execution_count": 15,
   "metadata": {},
   "outputs": [
    {
     "name": "stdout",
     "output_type": "stream",
     "text": [
      "no: 3850\n",
      "yes: 683\n",
      "unknown: 107\n"
     ]
    }
   ],
   "source": [
    "set_loan = list(set(data['loan']))\n",
    "for i in set_loan:\n",
    "    c=0\n",
    "    for j in range(len(data['loan'])):\n",
    "        if(data['loan'][j]==i and data['y'][j]=='yes'):\n",
    "            c+=1\n",
    "    print('{0}: {1}'.format(i, c))"
   ]
  },
  {
   "cell_type": "markdown",
   "metadata": {},
   "source": [
    "People who are not under any kind of loan repayment burden are more likely to buy term insurance and thus those group of people should be targeted more"
   ]
  },
  {
   "cell_type": "code",
   "execution_count": 16,
   "metadata": {},
   "outputs": [
    {
     "name": "stdout",
     "output_type": "stream",
     "text": [
      "no: 2026\n",
      "yes: 2507\n",
      "unknown: 107\n"
     ]
    }
   ],
   "source": [
    "set_housing = list(set(data['housing']))\n",
    "for i in set_housing:\n",
    "    c=0\n",
    "    for j in range(len(data['housing'])):\n",
    "        if(data['housing'][j]==i and data['y'][j]=='yes'):\n",
    "            c+=1\n",
    "    print('{0}: {1}'.format(i, c))"
   ]
  },
  {
   "cell_type": "markdown",
   "metadata": {},
   "source": [
    "There is not much difference between buyer of term-deposit from either class. Thus housing is not a very distinctive parameter"
   ]
  },
  {
   "cell_type": "code",
   "execution_count": 17,
   "metadata": {},
   "outputs": [
    {
     "name": "stdout",
     "output_type": "stream",
     "text": [
      "basic.4y: 428\n",
      "university.degree: 1670\n",
      "high.school: 1031\n",
      "unknown: 251\n",
      "professional.course: 595\n",
      "basic.9y: 473\n",
      "basic.6y: 188\n",
      "illiterate: 4\n"
     ]
    }
   ],
   "source": [
    "set_edu = list(set(data['education']))\n",
    "for i in set_edu:\n",
    "    c=0\n",
    "    for j in range(len(data['education'])):\n",
    "        if(data['education'][j]==i and data['y'][j]=='yes'):\n",
    "            c+=1\n",
    "    print('{0}: {1}'.format(i, c))"
   ]
  },
  {
   "cell_type": "markdown",
   "metadata": {},
   "source": [
    "Now, analysing the effect of Month and Day of Week"
   ]
  },
  {
   "cell_type": "code",
   "execution_count": 18,
   "metadata": {},
   "outputs": [
    {
     "name": "stdout",
     "output_type": "stream",
     "text": [
      "jun: 559\n",
      "jul: 649\n",
      "may: 886\n",
      "nov: 416\n",
      "oct: 315\n",
      "apr: 539\n",
      "aug: 655\n",
      "sep: 256\n",
      "mar: 276\n",
      "dec: 89\n"
     ]
    }
   ],
   "source": [
    "set_month = list(set(data['month']))\n",
    "for i in set_month:\n",
    "    c=0\n",
    "    for j in range(len(data['month'])):\n",
    "        if(data['month'][j]==i and data['y'][j]=='yes'):\n",
    "            c+=1\n",
    "    print('{0}: {1}'.format(i, c))"
   ]
  },
  {
   "cell_type": "code",
   "execution_count": 30,
   "metadata": {},
   "outputs": [
    {
     "name": "stdout",
     "output_type": "stream",
     "text": [
      "fri: 676\n",
      "wed: 809\n",
      "thu: 879\n",
      "tue: 789\n",
      "mon: 706\n"
     ]
    }
   ],
   "source": [
    "set_dow = list(set(data['day_of_week']))\n",
    "for i in set_dow:\n",
    "    c=0\n",
    "    for j in range(len(data['day_of_week'])):\n",
    "        if(data['day_of_week'][j]==i and data['y'][j]=='yes'):\n",
    "            c+=1\n",
    "    print('{0}: {1}'.format(i, c))"
   ]
  },
  {
   "cell_type": "markdown",
   "metadata": {},
   "source": [
    "We see Day of Week has little effect on term-deposit sell. In contrast, Month shows large variation with sell in May almost four times the sell in March and more than 8 times the sell in Dec. This gives us a clear hint and indication that the sell remain moderate in year start, peaks in the middle and drops significantly towards year end"
   ]
  },
  {
   "cell_type": "markdown",
   "metadata": {},
   "source": [
    "A situation of doubt is in keeping unknown values encountered since these values doesn't seem to add any information at all, it might suffice to remove such rows"
   ]
  },
  {
   "cell_type": "code",
   "execution_count": 19,
   "metadata": {},
   "outputs": [],
   "source": [
    "for i in ['job', 'marital', 'education', 'default', 'housing', 'loan']:\n",
    "    data.drop(data.loc[data[i]=='unknown'].index, inplace=True)"
   ]
  },
  {
   "cell_type": "code",
   "execution_count": 20,
   "metadata": {
    "collapsed": true
   },
   "outputs": [],
   "source": [
    "data = data.reset_index(drop=True)"
   ]
  },
  {
   "cell_type": "code",
   "execution_count": 21,
   "metadata": {},
   "outputs": [
    {
     "name": "stdout",
     "output_type": "stream",
     "text": [
      "Count of Yes:  3859\n",
      "Count of No:  26629\n",
      "Count of Unknown:  0\n",
      "Sum of both the counts:  30488\n",
      "Total number of datapoints:  30488\n",
      "Percent of Yes:  0.1265743899239045\n",
      "Percent of No:  0.8734256100760955\n"
     ]
    }
   ],
   "source": [
    "count_yes = len(data[data['y']=='yes'])\n",
    "count_no = len(data[data['y']=='no'])\n",
    "count_unknown = len(data[data['y']=='unknown'])\n",
    "print('Count of Yes: ', count_yes)\n",
    "print('Count of No: ', count_no)\n",
    "print('Count of Unknown: ', count_unknown)\n",
    "print('Sum of both the counts: ', count_yes+count_no)\n",
    "print('Total number of datapoints: ', len(data['y']))\n",
    "\n",
    "perc_y = count_yes/len(data['y'])\n",
    "perc_n = count_no/len(data['y'])\n",
    "print('Percent of Yes: ', perc_y)\n",
    "print('Percent of No: ', perc_n)"
   ]
  },
  {
   "cell_type": "markdown",
   "metadata": {},
   "source": [
    "Removing unknowns form the data increases the percentage of positive responses and thus reduced the bias with a small fraction. It largly reduced the noise in dataset"
   ]
  },
  {
   "cell_type": "markdown",
   "metadata": {},
   "source": [
    "Now, let us explore a specific feature of interest: duration"
   ]
  },
  {
   "cell_type": "markdown",
   "metadata": {},
   "source": [
    "Duration specifies the last contact duration, in seconds. It is expected by intution that if a call lasted for longer duration, the subject might be well interested and likely to take the term-deposit. On the other hand, if the person has never been contacted before, chances are that he doesn't know about the product and almost never buy it"
   ]
  },
  {
   "cell_type": "code",
   "execution_count": 22,
   "metadata": {},
   "outputs": [
    {
     "data": {
      "text/plain": [
       "count    30488.000000\n",
       "mean       259.484092\n",
       "std        261.714262\n",
       "min          0.000000\n",
       "25%        103.000000\n",
       "50%        181.000000\n",
       "75%        321.000000\n",
       "max       4918.000000\n",
       "Name: duration, dtype: float64"
      ]
     },
     "execution_count": 22,
     "metadata": {},
     "output_type": "execute_result"
    }
   ],
   "source": [
    "data['duration'].describe()"
   ]
  },
  {
   "cell_type": "code",
   "execution_count": 23,
   "metadata": {},
   "outputs": [
    {
     "name": "stdout",
     "output_type": "stream",
     "text": [
      "0: 0\n",
      "10: 0\n",
      "20: 0\n",
      "30: 0\n",
      "40: 0\n",
      "50: 0\n",
      "60: 0\n",
      "70: 0\n",
      "80: 1\n",
      "90: 2\n",
      "100: 3\n",
      "110: 4\n",
      "120: 2\n",
      "130: 6\n",
      "140: 6\n",
      "150: 9\n",
      "160: 8\n",
      "170: 7\n",
      "180: 6\n",
      "190: 6\n",
      "200: 13\n",
      "210: 11\n",
      "220: 5\n",
      "230: 6\n",
      "240: 3\n",
      "250: 8\n",
      "260: 8\n",
      "270: 9\n",
      "280: 3\n",
      "290: 6\n",
      "300: 8\n",
      "310: 6\n",
      "320: 3\n",
      "330: 5\n",
      "340: 3\n",
      "350: 7\n",
      "360: 5\n",
      "370: 5\n",
      "380: 2\n",
      "390: 3\n",
      "400: 6\n",
      "410: 4\n",
      "420: 2\n",
      "430: 4\n",
      "440: 1\n",
      "450: 3\n",
      "460: 8\n",
      "470: 3\n",
      "480: 2\n",
      "490: 2\n"
     ]
    }
   ],
   "source": [
    "set_dur = [10*x for x in range(50)]\n",
    "for i in set_dur:\n",
    "    c=0\n",
    "    for j in range(len(data['duration'])):\n",
    "        if(data['duration'][j]>=i and data['duration'][j]<i+1 and data['y'][j]=='yes'):\n",
    "            c+=1\n",
    "    print('{0}: {1}'.format(i, c))"
   ]
  },
  {
   "cell_type": "markdown",
   "metadata": {},
   "source": [
    "The analysis of call duration clearly indicates that short duration calls almost always produce negative response and long duration calls with 1 standard deviation deviation from mean produces positive result. <br />\n",
    "But the goal of this analysis and predictive model is to create a system that can tell the response to be positive or negative before the call takes place. Thus it is better to remove this feature as it doesnot add any information to the predictive model"
   ]
  },
  {
   "cell_type": "code",
   "execution_count": 26,
   "metadata": {},
   "outputs": [],
   "source": [
    "data = data.drop('duration', axis=1)"
   ]
  },
  {
   "cell_type": "markdown",
   "metadata": {},
   "source": [
    "Now we have a lot of insights and understanding about the data. The only thing left to analyse is campain parameteres and socio-economic attributes. Lets get done with that"
   ]
  },
  {
   "cell_type": "markdown",
   "metadata": {},
   "source": [
    "Analyzing Campaign: number of contacts performed during this campaign and for this client"
   ]
  },
  {
   "cell_type": "code",
   "execution_count": 31,
   "metadata": {},
   "outputs": [
    {
     "name": "stdout",
     "output_type": "stream",
     "text": [
      "1: 1920\n",
      "2: 1020\n",
      "3: 477\n",
      "4: 200\n",
      "5: 101\n",
      "6: 53\n",
      "7: 30\n",
      "8: 15\n",
      "9: 14\n",
      "10: 10\n",
      "11: 10\n",
      "12: 2\n",
      "13: 1\n",
      "14: 1\n",
      "15: 0\n",
      "16: 0\n",
      "17: 4\n",
      "18: 0\n",
      "19: 0\n",
      "20: 0\n",
      "21: 0\n",
      "22: 0\n",
      "23: 1\n",
      "24: 0\n",
      "25: 0\n",
      "26: 0\n",
      "27: 0\n",
      "28: 0\n",
      "29: 0\n",
      "30: 0\n",
      "31: 0\n",
      "32: 0\n",
      "33: 0\n",
      "34: 0\n",
      "35: 0\n",
      "37: 0\n",
      "39: 0\n",
      "40: 0\n",
      "41: 0\n",
      "42: 0\n",
      "43: 0\n"
     ]
    }
   ],
   "source": [
    "set_camp = list(set(data['campaign']))\n",
    "for i in set_camp:\n",
    "    c=0\n",
    "    for j in range(len(data['campaign'])):\n",
    "        if(data['campaign'][j]==i and data['y'][j]=='yes'):\n",
    "            c+=1\n",
    "    print('{0}: {1}'.format(i, c))"
   ]
  },
  {
   "cell_type": "markdown",
   "metadata": {},
   "source": [
    "We observe an interesting pattern here. Most of the subjects who bought the term-deposit made it clear in first few contacts and the number of positive responses fell drastically as the number of contacts increased. Thus we can safely conclude that it is a waste of cost, time and effort to contact the same client multiple times and it is more benefitial to target new customers"
   ]
  },
  {
   "cell_type": "markdown",
   "metadata": {},
   "source": [
    "Analysing pdays: number of days that passed by after the client was last contacted from a previous campaign"
   ]
  },
  {
   "cell_type": "code",
   "execution_count": 32,
   "metadata": {},
   "outputs": [
    {
     "name": "stdout",
     "output_type": "stream",
     "text": [
      "0: 10\n",
      "1: 7\n",
      "2: 31\n",
      "3: 259\n",
      "4: 53\n",
      "5: 27\n",
      "6: 255\n",
      "7: 34\n",
      "8: 8\n",
      "9: 27\n",
      "10: 25\n",
      "11: 13\n",
      "12: 22\n",
      "13: 26\n",
      "14: 10\n",
      "15: 16\n",
      "16: 5\n",
      "17: 1\n",
      "18: 2\n",
      "19: 1\n",
      "21: 2\n",
      "22: 2\n",
      "25: 1\n",
      "26: 1\n",
      "27: 1\n",
      "999: 3020\n"
     ]
    }
   ],
   "source": [
    "set_pdays = list(set(data['pdays']))\n",
    "for i in set_pdays:\n",
    "    c=0\n",
    "    for j in range(len(data['pdays'])):\n",
    "        if(data['pdays'][j]==i and data['y'][j]=='yes'):\n",
    "            c+=1\n",
    "    print('{0}: {1}'.format(i, c))"
   ]
  },
  {
   "cell_type": "markdown",
   "metadata": {},
   "source": [
    "Here, for the subjects already contacted before, the number of sells is max after 2-7 days since last contact. This might be inferred as the time a customer to rethink about a deal and make a deal. As the number of days passed increases after 10 days, the client is less likely to buy the product and thus can be contacted and urged again"
   ]
  },
  {
   "cell_type": "markdown",
   "metadata": {},
   "source": [
    "Analyzing previous: number of contacts performed before this campaign and for this client "
   ]
  },
  {
   "cell_type": "code",
   "execution_count": 33,
   "metadata": {},
   "outputs": [
    {
     "name": "stdout",
     "output_type": "stream",
     "text": [
      "0: 2572\n",
      "1: 832\n",
      "2: 297\n",
      "3: 115\n",
      "4: 30\n",
      "5: 11\n",
      "6: 2\n",
      "7: 0\n"
     ]
    }
   ],
   "source": [
    "set_prev = list(set(data['previous']))\n",
    "for i in set_prev:\n",
    "    c=0\n",
    "    for j in range(len(data['previous'])):\n",
    "        if(data['previous'][j]==i and data['y'][j]=='yes'):\n",
    "            c+=1\n",
    "    print('{0}: {1}'.format(i, c))"
   ]
  },
  {
   "cell_type": "markdown",
   "metadata": {},
   "source": [
    "It is clearly visible that new customers tend to buy the term-deposit more compared to the old customers. Hence the next campaign should focus on contacting new customers more to increase its sell compared to urging same old customers multiple times"
   ]
  },
  {
   "cell_type": "markdown",
   "metadata": {},
   "source": [
    "Analysing outcome of previous campaign and its relation to this campaigns outcome"
   ]
  },
  {
   "cell_type": "code",
   "execution_count": 34,
   "metadata": {},
   "outputs": [
    {
     "name": "stdout",
     "output_type": "stream",
     "text": [
      "nonexistent: 2572\n",
      "failure: 508\n",
      "success: 779\n"
     ]
    }
   ],
   "source": [
    "set_pout = list(set(data['poutcome']))\n",
    "for i in set_pout:\n",
    "    c=0\n",
    "    for j in range(len(data['poutcome'])):\n",
    "        if(data['poutcome'][j]==i and data['y'][j]=='yes'):\n",
    "            c+=1\n",
    "    print('{0}: {1}'.format(i, c))"
   ]
  },
  {
   "cell_type": "code",
   "execution_count": 36,
   "metadata": {},
   "outputs": [
    {
     "data": {
      "text/html": [
       "<div>\n",
       "<style>\n",
       "    .dataframe thead tr:only-child th {\n",
       "        text-align: right;\n",
       "    }\n",
       "\n",
       "    .dataframe thead th {\n",
       "        text-align: left;\n",
       "    }\n",
       "\n",
       "    .dataframe tbody tr th {\n",
       "        vertical-align: top;\n",
       "    }\n",
       "</style>\n",
       "<table border=\"1\" class=\"dataframe\">\n",
       "  <thead>\n",
       "    <tr style=\"text-align: right;\">\n",
       "      <th></th>\n",
       "      <th>age</th>\n",
       "      <th>campaign</th>\n",
       "      <th>pdays</th>\n",
       "      <th>previous</th>\n",
       "      <th>emp.var.rate</th>\n",
       "      <th>cons.price.idx</th>\n",
       "      <th>cons.conf.idx</th>\n",
       "      <th>euribor3m</th>\n",
       "      <th>nr.employed</th>\n",
       "    </tr>\n",
       "  </thead>\n",
       "  <tbody>\n",
       "    <tr>\n",
       "      <th>age</th>\n",
       "      <td>1.000000</td>\n",
       "      <td>-0.002364</td>\n",
       "      <td>-0.050891</td>\n",
       "      <td>0.049231</td>\n",
       "      <td>-0.050409</td>\n",
       "      <td>-0.035762</td>\n",
       "      <td>0.125017</td>\n",
       "      <td>-0.036481</td>\n",
       "      <td>-0.064586</td>\n",
       "    </tr>\n",
       "    <tr>\n",
       "      <th>campaign</th>\n",
       "      <td>-0.002364</td>\n",
       "      <td>1.000000</td>\n",
       "      <td>0.054312</td>\n",
       "      <td>-0.080766</td>\n",
       "      <td>0.157739</td>\n",
       "      <td>0.127260</td>\n",
       "      <td>-0.011664</td>\n",
       "      <td>0.140836</td>\n",
       "      <td>0.148069</td>\n",
       "    </tr>\n",
       "    <tr>\n",
       "      <th>pdays</th>\n",
       "      <td>-0.050891</td>\n",
       "      <td>0.054312</td>\n",
       "      <td>1.000000</td>\n",
       "      <td>-0.590248</td>\n",
       "      <td>0.268763</td>\n",
       "      <td>0.068010</td>\n",
       "      <td>-0.102368</td>\n",
       "      <td>0.295188</td>\n",
       "      <td>0.370845</td>\n",
       "    </tr>\n",
       "    <tr>\n",
       "      <th>previous</th>\n",
       "      <td>0.049231</td>\n",
       "      <td>-0.080766</td>\n",
       "      <td>-0.590248</td>\n",
       "      <td>1.000000</td>\n",
       "      <td>-0.403502</td>\n",
       "      <td>-0.176775</td>\n",
       "      <td>-0.027930</td>\n",
       "      <td>-0.438863</td>\n",
       "      <td>-0.488365</td>\n",
       "    </tr>\n",
       "    <tr>\n",
       "      <th>emp.var.rate</th>\n",
       "      <td>-0.050409</td>\n",
       "      <td>0.157739</td>\n",
       "      <td>0.268763</td>\n",
       "      <td>-0.403502</td>\n",
       "      <td>1.000000</td>\n",
       "      <td>0.766055</td>\n",
       "      <td>0.157593</td>\n",
       "      <td>0.969412</td>\n",
       "      <td>0.900390</td>\n",
       "    </tr>\n",
       "    <tr>\n",
       "      <th>cons.price.idx</th>\n",
       "      <td>-0.035762</td>\n",
       "      <td>0.127260</td>\n",
       "      <td>0.068010</td>\n",
       "      <td>-0.176775</td>\n",
       "      <td>0.766055</td>\n",
       "      <td>1.000000</td>\n",
       "      <td>0.027217</td>\n",
       "      <td>0.667292</td>\n",
       "      <td>0.488871</td>\n",
       "    </tr>\n",
       "    <tr>\n",
       "      <th>cons.conf.idx</th>\n",
       "      <td>0.125017</td>\n",
       "      <td>-0.011664</td>\n",
       "      <td>-0.102368</td>\n",
       "      <td>-0.027930</td>\n",
       "      <td>0.157593</td>\n",
       "      <td>0.027217</td>\n",
       "      <td>1.000000</td>\n",
       "      <td>0.243637</td>\n",
       "      <td>0.075283</td>\n",
       "    </tr>\n",
       "    <tr>\n",
       "      <th>euribor3m</th>\n",
       "      <td>-0.036481</td>\n",
       "      <td>0.140836</td>\n",
       "      <td>0.295188</td>\n",
       "      <td>-0.438863</td>\n",
       "      <td>0.969412</td>\n",
       "      <td>0.667292</td>\n",
       "      <td>0.243637</td>\n",
       "      <td>1.000000</td>\n",
       "      <td>0.944871</td>\n",
       "    </tr>\n",
       "    <tr>\n",
       "      <th>nr.employed</th>\n",
       "      <td>-0.064586</td>\n",
       "      <td>0.148069</td>\n",
       "      <td>0.370845</td>\n",
       "      <td>-0.488365</td>\n",
       "      <td>0.900390</td>\n",
       "      <td>0.488871</td>\n",
       "      <td>0.075283</td>\n",
       "      <td>0.944871</td>\n",
       "      <td>1.000000</td>\n",
       "    </tr>\n",
       "  </tbody>\n",
       "</table>\n",
       "</div>"
      ],
      "text/plain": [
       "                     age  campaign     pdays  previous  emp.var.rate  \\\n",
       "age             1.000000 -0.002364 -0.050891  0.049231     -0.050409   \n",
       "campaign       -0.002364  1.000000  0.054312 -0.080766      0.157739   \n",
       "pdays          -0.050891  0.054312  1.000000 -0.590248      0.268763   \n",
       "previous        0.049231 -0.080766 -0.590248  1.000000     -0.403502   \n",
       "emp.var.rate   -0.050409  0.157739  0.268763 -0.403502      1.000000   \n",
       "cons.price.idx -0.035762  0.127260  0.068010 -0.176775      0.766055   \n",
       "cons.conf.idx   0.125017 -0.011664 -0.102368 -0.027930      0.157593   \n",
       "euribor3m      -0.036481  0.140836  0.295188 -0.438863      0.969412   \n",
       "nr.employed    -0.064586  0.148069  0.370845 -0.488365      0.900390   \n",
       "\n",
       "                cons.price.idx  cons.conf.idx  euribor3m  nr.employed  \n",
       "age                  -0.035762       0.125017  -0.036481    -0.064586  \n",
       "campaign              0.127260      -0.011664   0.140836     0.148069  \n",
       "pdays                 0.068010      -0.102368   0.295188     0.370845  \n",
       "previous             -0.176775      -0.027930  -0.438863    -0.488365  \n",
       "emp.var.rate          0.766055       0.157593   0.969412     0.900390  \n",
       "cons.price.idx        1.000000       0.027217   0.667292     0.488871  \n",
       "cons.conf.idx         0.027217       1.000000   0.243637     0.075283  \n",
       "euribor3m             0.667292       0.243637   1.000000     0.944871  \n",
       "nr.employed           0.488871       0.075283   0.944871     1.000000  "
      ]
     },
     "execution_count": 36,
     "metadata": {},
     "output_type": "execute_result"
    }
   ],
   "source": [
    "data_corr = data.corr(method='pearson')\n",
    "data_corr"
   ]
  },
  {
   "cell_type": "markdown",
   "metadata": {},
   "source": [
    "Lastly, The Socio-Economic Factors tend to affect all the groups in masses and does not have a specific implication on a particular group. The correlation matrix above is useful for this analysis but the graphical methods will further help in exploration process"
   ]
  },
  {
   "cell_type": "markdown",
   "metadata": {},
   "source": [
    "The next set of experimentations I did before creating a predictive model was use Visualisations and analyse the variation. This is present in the next notebook"
   ]
  },
  {
   "cell_type": "code",
   "execution_count": null,
   "metadata": {
    "collapsed": true
   },
   "outputs": [],
   "source": []
  }
 ],
 "metadata": {
  "kernelspec": {
   "display_name": "Python 3",
   "language": "python",
   "name": "python3"
  },
  "language_info": {
   "codemirror_mode": {
    "name": "ipython",
    "version": 3
   },
   "file_extension": ".py",
   "mimetype": "text/x-python",
   "name": "python",
   "nbconvert_exporter": "python",
   "pygments_lexer": "ipython3",
   "version": "3.6.1"
  }
 },
 "nbformat": 4,
 "nbformat_minor": 2
}
